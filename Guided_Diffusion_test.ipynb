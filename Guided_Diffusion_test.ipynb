{
  "nbformat": 4,
  "nbformat_minor": 0,
  "metadata": {
    "colab": {
      "provenance": [],
      "gpuType": "A100",
      "machine_shape": "hm",
      "mount_file_id": "1LN_ywFzoJof1a5Y_t-hOeTEaJpTjM_RN",
      "authorship_tag": "ABX9TyOuO40XsovkD/0Af/EbaGv+",
      "include_colab_link": true
    },
    "kernelspec": {
      "name": "python3",
      "display_name": "Python 3"
    },
    "language_info": {
      "name": "python"
    },
    "accelerator": "GPU"
  },
  "cells": [
    {
      "cell_type": "markdown",
      "metadata": {
        "id": "view-in-github",
        "colab_type": "text"
      },
      "source": [
        "<a href=\"https://colab.research.google.com/github/AleCava01/Synthesizing-the-Mind/blob/main/Guided_Diffusion_test.ipynb\" target=\"_parent\"><img src=\"https://colab.research.google.com/assets/colab-badge.svg\" alt=\"Open In Colab\"/></a>"
      ]
    },
    {
      "cell_type": "markdown",
      "source": [
        "# Guided Diffusion testing"
      ],
      "metadata": {
        "id": "5xS_EAYJiWcK"
      }
    },
    {
      "cell_type": "markdown",
      "source": [
        "Author: Alessandro Cavalieri\n",
        "\n",
        "This is an elaboration of [Guided Diffusion by OpenAI from scratch](https://www.kaggle.com/code/vikramsandu/guided-diffusion-by-openai-from-scratch/notebook), used by me to understand Diffusion Models, in particular to learn [Guided Diffusion](https://github.com/openai/guided-diffusion) by OpenAI."
      ],
      "metadata": {
        "id": "U3c-rcBnmyrn"
      }
    },
    {
      "cell_type": "code",
      "source": [
        "import os\n",
        "from PIL import Image\n",
        "import torchvision.transforms as transforms\n",
        "from torch.utils.data import Dataset, DataLoader"
      ],
      "metadata": {
        "id": "xrvZK3mpttOc"
      },
      "execution_count": 1,
      "outputs": []
    },
    {
      "cell_type": "markdown",
      "source": [
        "## Sample timesteps"
      ],
      "metadata": {
        "id": "8Oid95WmmE6_"
      }
    },
    {
      "cell_type": "code",
      "source": [
        "import math\n",
        "import numpy as np\n",
        "\n",
        "def sample_timesteps(num_total_timesteps: int = 1000,\n",
        "                     num_sample_timesteps: int = 1000\n",
        "                    ):\n",
        "    \"\"\"\n",
        "    Uniformaly sample num_sample_timesteps timesteps given total number of timesteps.\n",
        "    Later we will utilize for speed up sampling.\n",
        "    \"\"\"\n",
        "    # Get New sampled timesteps (Uniform stepping)\n",
        "    step_size = num_total_timesteps//num_sample_timesteps\n",
        "    use_timesteps = np.arange(0, num_total_timesteps, step_size)\n",
        "\n",
        "    # Make sure to append final timestep if not there already\n",
        "    if (num_total_timesteps - 1) not in use_timesteps:\n",
        "        use_timesteps = np.append(use_timesteps, num_total_timesteps - 1)\n",
        "\n",
        "    return use_timesteps\n"
      ],
      "metadata": {
        "id": "KJHJzaCAib24"
      },
      "execution_count": 2,
      "outputs": []
    },
    {
      "cell_type": "markdown",
      "source": [
        "## Cosine Noise Scheduler\n",
        "calculates the betas based on a cosine schedule, which is a smoother function compared to a linear schedule. The idea is to have smaller betas initially (less noise) and gradually increase them, peaking toward the end of the diffusion process, which ensures that the reverse process can be more effectively learned by the model.\n"
      ],
      "metadata": {
        "id": "Cn1fmgXW427X"
      }
    },
    {
      "cell_type": "markdown",
      "source": [
        "### Alpha bars"
      ],
      "metadata": {
        "id": "-NU2xYpgmJNR"
      }
    },
    {
      "cell_type": "markdown",
      "source": [
        "$$\\bar\\alpha_t=\\frac{f(t)}{f(0)}, \\quad \\quad f(t)=\\cos\\Big (\\frac{t/T+s}{1+s}\\cdot \\frac{\\pi}2\\Big )^2$$"
      ],
      "metadata": {
        "id": "KRfjj_j0oRls"
      }
    },
    {
      "cell_type": "code",
      "source": [
        "def get_alpha_bars(num_original_timesteps: int = 1000, num_sampling_timesteps: int = 1000) -> np.ndarray:\n",
        "  # s is set to 0.008 by Authors\n",
        "    s = 0.008\n",
        "\n",
        "    # Calculate alpha bars\n",
        "    alpha_bars = [\n",
        "        math.cos(((t / num_original_timesteps + s) / (1 + s)) * (math.pi / 2)) ** 2\n",
        "        for t in range(num_original_timesteps + 1)\n",
        "    ]\n",
        "\n",
        "    return np.array(alpha_bars)\n"
      ],
      "metadata": {
        "id": "uBp1J0WAk86U"
      },
      "execution_count": 3,
      "outputs": []
    },
    {
      "cell_type": "markdown",
      "source": [
        "Alpha bars represent the total amount of signal preserved after t steps.\n",
        "\n",
        "$\\bar \\alpha_0 = 1$: full signal (original image, no noise)\n",
        "\n",
        "$\\bar \\alpha_T = 0$: full noise\n",
        "\n",
        "So they give you a smooth curve from clean image to pure noise, and the cosine function makes this transition gentle at the beginning, steeper later — which is empirically good for both training and sampling."
      ],
      "metadata": {
        "id": "ipdZgeXImL1A"
      }
    },
    {
      "cell_type": "markdown",
      "source": [
        "Let's take a look:"
      ],
      "metadata": {
        "id": "Tkl8RhWJmeeE"
      }
    },
    {
      "cell_type": "code",
      "source": [
        "import math\n",
        "import numpy as np\n",
        "import matplotlib.pyplot as plt\n",
        "\n",
        "# Get alpha bars and plot them\n",
        "alpha_bars = get_alpha_bars()\n",
        "plt.figure(figsize=(10, 5))\n",
        "plt.plot(alpha_bars)\n",
        "plt.title(\"Cosine Noise Scheduler - Alpha Bars\")\n",
        "plt.xlabel(\"Timestep\")\n",
        "plt.ylabel(\"Alpha Bar (ᾱ_t)\")\n",
        "plt.grid(True)\n",
        "plt.show()"
      ],
      "metadata": {
        "colab": {
          "base_uri": "https://localhost:8080/",
          "height": 487
        },
        "id": "ckDMigWxmcPE",
        "outputId": "8096f02e-72ef-4bb7-c6d7-08d72d8ed5c3"
      },
      "execution_count": 4,
      "outputs": [
        {
          "output_type": "display_data",
          "data": {
            "text/plain": [
              "<Figure size 1000x500 with 1 Axes>"
            ],
            "image/png": "[encoded data removed]"
          },
          "metadata": {}
        }
      ]
    },
    {
      "cell_type": "markdown",
      "source": [
        "### Betas\n",
        "$$\\beta_t = \\min \\Big (1-\\frac{\\bar \\alpha_t}{\\bar \\alpha_{t-1}},\\beta_{\\max}\\Big )$$\n",
        "\n",
        "The betas in this function control the noise process by determining how much noise is added at each timestep of the diffusion."
      ],
      "metadata": {
        "id": "sXy_ymaHqS3F"
      }
    },
    {
      "cell_type": "code",
      "source": [
        "def get_betas(alpha_bars: np.ndarray, max_beta: float = 0.999) -> np.ndarray:\n",
        "  betas = np.array([\n",
        "        min(1 - a_t / a_tminus1, max_beta)\n",
        "        for a_t, a_tminus1 in zip(alpha_bars[1:], alpha_bars[:-1])\n",
        "    ])\n",
        "  return betas"
      ],
      "metadata": {
        "id": "DIiH-N_6qmJJ"
      },
      "execution_count": 5,
      "outputs": []
    },
    {
      "cell_type": "code",
      "source": [
        "alpha_bars = get_alpha_bars()\n",
        "betas = get_betas(alpha_bars)\n",
        "\n",
        "# Plot the beta schedule\n",
        "plt.figure(figsize=(10, 5))\n",
        "plt.plot(betas, label=\"β_t\")\n",
        "plt.xlabel(\"Timestep\")\n",
        "plt.ylabel(\"Beta (Noise Level)\")\n",
        "plt.title(\"Cosine Beta Schedule\")\n",
        "plt.grid(True)\n",
        "plt.legend()\n",
        "plt.show()"
      ],
      "metadata": {
        "colab": {
          "base_uri": "https://localhost:8080/",
          "height": 487
        },
        "id": "Aw-wLrfurVtv",
        "outputId": "1cf10f46-abe4-4ac6-a7cc-ca419c256cc1"
      },
      "execution_count": 6,
      "outputs": [
        {
          "output_type": "display_data",
          "data": {
            "text/plain": [
              "<Figure size 1000x500 with 1 Axes>"
            ],
            "image/png": "[encoded data removed]"
          },
          "metadata": {}
        }
      ]
    },
    {
      "cell_type": "code",
      "source": [
        "# Compute the sum of alpha_bars and betas\n",
        "sum_values = alpha_bars[:-1] + betas  # alpha_bars[:-1] aligns the length with betas\n",
        "\n",
        "# Plot both on the same figure\n",
        "plt.figure(figsize=(12, 6))\n",
        "plt.plot(betas, label=\"β_t (Beta)\", color=\"tab:red\")\n",
        "plt.plot(alpha_bars[:-1], label=\"ᾱ_t (Alpha Bar)\", color=\"tab:blue\")\n",
        "plt.plot(sum_values, label=\"Sum of ᾱ_t and β_t\", color=\"tab:green\", linestyle=\"--\")\n",
        "plt.xlabel(\"Timestep\")\n",
        "plt.title(\"Cosine Noise Scheduler: Alpha Bars, Betas, and their Sum\")\n",
        "plt.legend()\n",
        "plt.grid(True)\n",
        "plt.tight_layout()\n",
        "plt.show()"
      ],
      "metadata": {
        "colab": {
          "base_uri": "https://localhost:8080/",
          "height": 607
        },
        "id": "_XPdmOaz06GO",
        "outputId": "32d7ac55-6429-4559-b6cf-2c963e734cac"
      },
      "execution_count": 7,
      "outputs": [
        {
          "output_type": "display_data",
          "data": {
            "text/plain": [
              "<Figure size 1200x600 with 1 Axes>"
            ],
            "image/png": "[encoded data removed]"
          },
          "metadata": {}
        }
      ]
    },
    {
      "cell_type": "markdown",
      "source": [
        "### Cosine Noise Scheduler (new betas)"
      ],
      "metadata": {
        "id": "8jSk931L5vcz"
      }
    },
    {
      "cell_type": "code",
      "source": [
        "def cosine_noise_schedular(num_original_timesteps: int = 1000,\n",
        "                           num_sampling_timesteps: int = 1000,\n",
        "                           max_beta: float = 0.999\n",
        "                          ) -> np.ndarray:\n",
        "    \"\"\"\n",
        "    Calculate noise controlling parameter betas for all time steps\n",
        "    according to the cosine noise scheduler.\n",
        "\n",
        "    Parameters:\n",
        "    num_original_timesteps (int): Number of original diffusion timesteps (used during training).\n",
        "    num_sampling_timesteps (int): Number of timesteps used for sampling.\n",
        "    max_beta (float): Maximum value for beta.\n",
        "\n",
        "    Returns:\n",
        "    array: Beta values for each timestep.\n",
        "    array: timesteps used to calculate betas.\n",
        "\n",
        "    NOTE: Set \"num_sampling_timesteps\" = \"num_original_timesteps\" during training.\n",
        "    \"\"\"\n",
        "\n",
        "    # Get the alpha bars\n",
        "    alpha_bars = get_alpha_bars(num_original_timesteps, num_sampling_timesteps)\n",
        "\n",
        "    # Calculate betas\n",
        "    betas = get_betas(alpha_bars, max_beta)\n",
        "\n",
        "    # Modify Betas as described in the \"Improved Sampling Speed\" section above.\n",
        "    alphas = 1 - betas\n",
        "    alphas_cumprod = np.cumprod(alphas, axis=0)\n",
        "\n",
        "    # Get New sampled timesteps (Uniform stepping)\n",
        "    use_timesteps = sample_timesteps(num_original_timesteps,\n",
        "                                     num_sampling_timesteps\n",
        "                                    )\n",
        "\n",
        "    # Calculate new betas according to new timesteps.\n",
        "    last_alpha_cumprod = 1.0\n",
        "    new_betas = []\n",
        "    for i, alpha_cumprod in enumerate(alphas_cumprod):\n",
        "        if i in use_timesteps:\n",
        "            new_betas.append(1 - alpha_cumprod / last_alpha_cumprod)\n",
        "            last_alpha_cumprod = alpha_cumprod\n",
        "\n",
        "    return np.array(new_betas), use_timesteps\n"
      ],
      "metadata": {
        "id": "58ghhvK8i9_S"
      },
      "execution_count": 8,
      "outputs": []
    },
    {
      "cell_type": "markdown",
      "source": [
        "Let's take a look:"
      ],
      "metadata": {
        "id": "C4LkjsHV5Nx4"
      }
    },
    {
      "cell_type": "code",
      "source": [
        "[new_betas, use_timesteps] = cosine_noise_schedular()\n",
        "alphas_cumprod = np.cumprod(alpha_bars, axis=0)\n",
        "\n",
        "# Plotting\n",
        "plt.figure(figsize=(10, 6))\n",
        "\n",
        "# Plot alphas\n",
        "plt.plot(alpha_bars, label='Alphas', color='blue')\n",
        "\n",
        "# Plot cumulative alphas\n",
        "plt.plot(alphas_cumprod, label='Cumulative Alphas', color='orange')\n",
        "\n",
        "# Plot new betas\n",
        "plt.plot(range(len(new_betas)), new_betas, label='New Betas', color='green', marker='o')\n",
        "\n",
        "# Highlight used timesteps\n",
        "plt.scatter(use_timesteps, [new_betas[i] for i in range(len(new_betas))], color='red', zorder=5, label='Used Timesteps')\n",
        "\n",
        "plt.xlabel('Timesteps')\n",
        "plt.ylabel('Value')\n",
        "plt.legend(loc='best')\n",
        "plt.title('Cosine Noise Scheduler: Alphas, New Betas, and Used Timesteps')\n",
        "plt.grid(True)\n",
        "plt.show()"
      ],
      "metadata": {
        "colab": {
          "base_uri": "https://localhost:8080/",
          "height": 564
        },
        "id": "MWyCokgjkhxV",
        "outputId": "a2538856-55d8-4423-a81b-94c325f4c4fb"
      },
      "execution_count": 9,
      "outputs": [
        {
          "output_type": "display_data",
          "data": {
            "text/plain": [
              "<Figure size 1000x600 with 1 Axes>"
            ],
            "image/png": "[encoded data removed]"
          },
          "metadata": {}
        }
      ]
    },
    {
      "cell_type": "markdown",
      "source": [
        "## Variational Lower Bound Loss"
      ],
      "metadata": {
        "id": "VgQte96S6VWa"
      }
    },
    {
      "cell_type": "code",
      "source": [
        "\"\"\"\n",
        "Helpers for various likelihood-based losses. These are ported from the original\n",
        "Ho et al. diffusion models codebase:\n",
        "https://github.com/hojonathanho/diffusion/blob/1e0dceb3b3495bbe19116a5e1b3596cd0706c543/diffusion_tf/utils.py\n",
        "\"\"\"\n",
        "\n",
        "import numpy as np\n",
        "\n",
        "import torch\n",
        "\n",
        "\n",
        "def normal_kl(mean1, logvar1, mean2, logvar2):\n",
        "    \"\"\"\n",
        "    Compute the KL divergence between two gaussians.\n",
        "\n",
        "    Shapes are automatically broadcasted, so batches can be compared to\n",
        "    scalars, among other use cases.\n",
        "    \"\"\"\n",
        "    tensor = None\n",
        "    for obj in (mean1, logvar1, mean2, logvar2):\n",
        "        if isinstance(obj, torch.Tensor):\n",
        "            tensor = obj\n",
        "            break\n",
        "    assert tensor is not None, \"at least one argument must be a Tensor\"\n",
        "\n",
        "    # Force variances to be Tensors. Broadcasting helps convert scalars to\n",
        "    # Tensors, but it does not work for th.exp().\n",
        "    logvar1, logvar2 = [\n",
        "        x if isinstance(x, torch.Tensor) else torch.tensor(x).to(tensor)\n",
        "        for x in (logvar1, logvar2)\n",
        "    ]\n",
        "\n",
        "    return 0.5 * (\n",
        "        -1.0\n",
        "        + logvar2\n",
        "        - logvar1\n",
        "        + torch.exp(logvar1 - logvar2)\n",
        "        + ((mean1 - mean2) ** 2) * torch.exp(-logvar2)\n",
        "    )\n",
        "\n",
        "\n",
        "def approx_standard_normal_cdf(x):\n",
        "    \"\"\"\n",
        "    A fast approximation of the cumulative distribution function of the\n",
        "    standard normal.\n",
        "    \"\"\"\n",
        "    return 0.5 * (1.0 + torch.tanh(np.sqrt(2.0 / np.pi) * (x + 0.044715 * torch.pow(x, 3))))\n",
        "\n",
        "\n",
        "def discretized_gaussian_log_likelihood(x, *, means, log_scales):\n",
        "    \"\"\"\n",
        "    Compute the log-likelihood of a Gaussian distribution discretizing to a\n",
        "    given image.\n",
        "\n",
        "    :param x: the target images. It is assumed that this was uint8 values,\n",
        "              rescaled to the range [-1, 1].\n",
        "    :param means: the Gaussian mean Tensor.\n",
        "    :param log_scales: the Gaussian log stddev Tensor.\n",
        "    :return: a tensor like x of log probabilities (in nats).\n",
        "    \"\"\"\n",
        "    assert x.shape == means.shape == log_scales.shape\n",
        "    centered_x = x - means\n",
        "    inv_stdv = torch.exp(-log_scales)\n",
        "    plus_in = inv_stdv * (centered_x + 1.0 / 255.0)\n",
        "    cdf_plus = approx_standard_normal_cdf(plus_in)\n",
        "    min_in = inv_stdv * (centered_x - 1.0 / 255.0)\n",
        "    cdf_min = approx_standard_normal_cdf(min_in)\n",
        "    log_cdf_plus = torch.log(cdf_plus.clamp(min=1e-12))\n",
        "    log_one_minus_cdf_min = torch.log((1.0 - cdf_min).clamp(min=1e-12))\n",
        "    cdf_delta = cdf_plus - cdf_min\n",
        "    log_probs = torch.where(\n",
        "        x < -0.999,\n",
        "        log_cdf_plus,\n",
        "        torch.where(x > 0.999, log_one_minus_cdf_min, torch.log(cdf_delta.clamp(min=1e-12))),\n",
        "    )\n",
        "    assert log_probs.shape == x.shape\n",
        "    return log_probs\n",
        "\n",
        "def mean_flat(tensor):\n",
        "    \"\"\"\n",
        "    Take the mean over all non-batch dimensions.\n",
        "    \"\"\"\n",
        "    return tensor.mean(dim=list(range(1, len(tensor.shape))))\n"
      ],
      "metadata": {
        "id": "mZmptUYG6ThO"
      },
      "execution_count": 10,
      "outputs": []
    },
    {
      "cell_type": "markdown",
      "source": [
        "## Guided Diffusion Process"
      ],
      "metadata": {
        "id": "FGZnFLG_GRtR"
      }
    },
    {
      "cell_type": "code",
      "source": [
        "import torch.nn.functional as F\n",
        "\n",
        "class GuidedDiffusionProcess:\n",
        "    \"\"\"\n",
        "    Utilities for training and sampling diffusion model.\n",
        "    Ported directly from https://github.com/openai/guided-diffusion/blob/main/guided_diffusion/gaussian_diffusion.py\n",
        "    and modified for simplicity.\n",
        "    \"\"\"\n",
        "    def __init__(self,\n",
        "                 num_timesteps:int = 1000,\n",
        "                 num_sampling_timesteps:int = 1000,\n",
        "                 classifier_guidance: bool = False, # True for Classifier Guidance during sampling only.\n",
        "                 classifier_scale = 1.0 # Weight given to the classifier gradient\n",
        "                ):\n",
        "\n",
        "        # Classifier Guidance.\n",
        "        self.classifier_guidance = classifier_guidance\n",
        "        self.classifier_scale = classifier_scale\n",
        "\n",
        "        # Betas using Cosine Noise Schedular\n",
        "        self.betas, self.use_timesteps = cosine_noise_schedular(num_timesteps, num_sampling_timesteps)\n",
        "        self.betas = torch.tensor(self.betas, dtype=torch.float32)\n",
        "        self.use_timesteps = torch.tensor(self.use_timesteps, dtype=torch.float32)\n",
        "\n",
        "        # Diffusion Process Coefficients.\n",
        "        self.alphas = 1.0 - self.betas\n",
        "        self.sqrt_alphas = torch.sqrt(self.alphas)\n",
        "        self.alphas_cumprod = torch.cumprod(self.alphas, dim=0)\n",
        "        self.one_minus_alphas_cumprod = 1.0 - self.alphas_cumprod\n",
        "        self.sqrt_alphas_cumprod = torch.sqrt(self.alphas_cumprod)\n",
        "        self.sqrt_recip_alphas_cumprod = torch.sqrt(1.0/self.alphas_cumprod)\n",
        "        self.sqrt_recipm1_alphas_cumprod = torch.sqrt(1.0/self.alphas_cumprod - 1)\n",
        "        self.sqrt_one_minus_alphas_cumprod = torch.sqrt(self.one_minus_alphas_cumprod)\n",
        "        self.alphas_cumprod_prev = torch.cat((torch.tensor([1.]), self.alphas_cumprod[:-1]))\n",
        "        self.sqrt_alphas_cumprod_prev = torch.sqrt(self.alphas_cumprod_prev)\n",
        "\n",
        "\n",
        "        # calculation for forward process \"posterior\" q(x_{t-1} | x_{t}).\n",
        "        self.posterior_mean_coef1 = (self.sqrt_alphas_cumprod_prev * self.betas)/self.one_minus_alphas_cumprod\n",
        "        self.posterior_mean_coef2 = (self.sqrt_alphas * (1.0 - self.alphas_cumprod_prev))/self.one_minus_alphas_cumprod\n",
        "        self.posterior_variance = (self.betas * (1.0 - self.alphas_cumprod_prev))/(self.one_minus_alphas_cumprod)\n",
        "\n",
        "        # Calculation for Variation Lower Bound Loss\n",
        "        # log calculation clipped because the posterior variance is 0 at the\n",
        "        # beginning of the diffusion chain.\n",
        "        self.posterior_log_variance_clipped = torch.log(\n",
        "            torch.cat((self.posterior_variance[1].unsqueeze(0), self.posterior_variance[1:]))\n",
        "        )\n",
        "\n",
        "    def add_noise(self, x0, noise, t):\n",
        "\n",
        "        \"\"\"\n",
        "        calculate x_t for all timesteps given input x0 using\n",
        "        x_t = sqrt(abar_t) * x0 + sqrt(1 - abar_t) * epsilon\n",
        "        where epsilon ~ N(0, 1). i.e., Forward Process\n",
        "\n",
        "        Parameters:\n",
        "        x0: Batch of Input Images of shape -> (B, C, H, W)\n",
        "        noise: Batch of Noise sampled from N(0, 1) of shape -> (B, C, H, W)\n",
        "        t: Batch of timesteps of shape -> (B, 1)\n",
        "\n",
        "        Return:\n",
        "        xt: Batch of output images at timesteps t obtained\n",
        "        according to Diffusion Forward Process of shape -> (B, C, H, W)\n",
        "        \"\"\"\n",
        "        # Mapping to Device + Broadcast\n",
        "        sqrt_alphas_cumprod = self._coeff_broadcasting(self.sqrt_alphas_cumprod, t)\n",
        "        sqrt_one_minus_alphas_cumprod = self._coeff_broadcasting(self.sqrt_one_minus_alphas_cumprod, t)\n",
        "\n",
        "        # Return\n",
        "        return (sqrt_alphas_cumprod * x0) + (sqrt_one_minus_alphas_cumprod * noise)\n",
        "\n",
        "    def q_posterior_mean_variance(self, x0, xt, t):\n",
        "\n",
        "        \"\"\"\n",
        "        Calculate Posterior Forward Mean and Variance of the\n",
        "        Diffusion Process. i.e., q(x_(t-1)|x_t) Later we will use\n",
        "        this in defining Variational Lower Bound (VLB) loss.\n",
        "\n",
        "        Parameters:\n",
        "        x0: Batch of Input Images of shape -> (B, C, H, W)\n",
        "        xt: Batch of images at timesteps t -> (B, C, H, W)\n",
        "        t: Batch of timesteps of shape -> (B, 1)\n",
        "\n",
        "        Return:\n",
        "        posterior_mean, posterior_variance, and posterior_log_variance_clipped\n",
        "        of the shape -> (B, C, H, W)\n",
        "        \"\"\"\n",
        "\n",
        "        posterior_mean_coef1 = self._coeff_broadcasting(self.posterior_mean_coef1, t)\n",
        "        posterior_mean_coef2 = self._coeff_broadcasting(self.posterior_mean_coef2, t)\n",
        "        posterior_variance = self._coeff_broadcasting(self.posterior_variance, t)\n",
        "        posterior_log_variance_clipped = self._coeff_broadcasting(self.posterior_log_variance_clipped, t)\n",
        "\n",
        "        # Posterior Mean\n",
        "        posterior_mean = (posterior_mean_coef1 * x0) + (posterior_mean_coef2 * xt)\n",
        "\n",
        "        return posterior_mean, posterior_variance, posterior_log_variance_clipped\n",
        "\n",
        "    def p_mean_variance(self, model, x, t, y):\n",
        "\n",
        "        \"\"\"\n",
        "        Calculation of Mean and Variance of p(x_(t-1)|x_t) using\n",
        "        model noise prediction.\n",
        "\n",
        "        Params\n",
        "        --------\n",
        "        model: U-net model which predicts the noise\n",
        "        x: signal at time step t of shape -> (B, C, H, W)\n",
        "        t: Batch of timesteps of shape -> (B, 1)\n",
        "        y: Batch of class labels of shape -> (B, 1)\n",
        "\n",
        "        Return\n",
        "        --------\n",
        "        mean: the model mean output\n",
        "        variance: the model variance output\n",
        "        log_variance: the log of variance\n",
        "        x0: prediction of x_start\n",
        "        \"\"\"\n",
        "        B, C, H, W = x.shape\n",
        "\n",
        "        out = model(x, self.scale_timestep(t), y) # Class conditional\n",
        "\n",
        "        # Get Noise pred and Variance from out\n",
        "        noise_pred, model_var_values = torch.split(out, C, dim=1)\n",
        "\n",
        "        # Calculate x0\n",
        "        sqrt_recip_alphas_cumprod = self._coeff_broadcasting(self.sqrt_recip_alphas_cumprod, t)\n",
        "        sqrt_recipm1_alphas_cumprod = self._coeff_broadcasting(self.sqrt_recipm1_alphas_cumprod, t)\n",
        "        pred_xstart = (sqrt_recip_alphas_cumprod * x) - (sqrt_recipm1_alphas_cumprod * noise_pred)\n",
        "        pred_xstart = torch.clamp(pred_xstart, -1., 1.)\n",
        "\n",
        "        # Calculate Mean\n",
        "        model_mean, _, _ = self.q_posterior_mean_variance(pred_xstart, x, t)\n",
        "\n",
        "        # Calculate Variance\n",
        "        min_log_var = self._coeff_broadcasting(self.posterior_log_variance_clipped, t)\n",
        "        max_log_var = self._coeff_broadcasting(torch.log(self.betas), t)\n",
        "        frac = (model_var_values + 1)/2 # Convert the model_var_values from [-1, 1] -> [0, 1]\n",
        "        model_log_variance = (frac * max_log_var) + ((1-frac) * min_log_var)\n",
        "        model_variance = torch.exp(model_log_variance)\n",
        "\n",
        "        return {\n",
        "            \"mean\": model_mean,\n",
        "            \"variance\": model_variance,\n",
        "            \"log_variance\": model_log_variance,\n",
        "            \"pred_xstart\": pred_xstart\n",
        "        }\n",
        "\n",
        "    def p_sample(self, model, x, t, y, classifier=None):\n",
        "\n",
        "        \"\"\"\n",
        "        sample x_{t-1} from the model at given timestep.\n",
        "        \"\"\"\n",
        "        out = self.p_mean_variance(model, x.float(), t, y)\n",
        "\n",
        "        noise = torch.randn_like(x)\n",
        "        nonzero_mask = (\n",
        "            (t != 0).float().view(-1, *([1] * (len(x.shape) - 1)))\n",
        "        )  # no noise when t == 0\n",
        "\n",
        "        # Shift the mean to Sigma * gradient\n",
        "        if self.classifier_guidance:\n",
        "            gradient = self._calc_gradient(x, self.scale_timestep(t), y, classifier) * self.classifier_scale\n",
        "            out[\"mean\"] = out[\"mean\"].float() + out[\"variance\"] * gradient.float()\n",
        "\n",
        "        sample = out[\"mean\"] + nonzero_mask * torch.exp(0.5 * out[\"log_variance\"]) * noise\n",
        "\n",
        "        return {\"sample\": sample, \"pred_xstart\": out[\"pred_xstart\"]}\n",
        "\n",
        "\n",
        "    def _vb_terms_bpd(\n",
        "        self, model, x_start, x_t, t, y\n",
        "    ):\n",
        "        \"\"\"\n",
        "        Get a term for the variational lower-bound.\n",
        "\n",
        "        The resulting units are bits (rather than nats, as one might expect).\n",
        "        This allows for comparison to other papers.\n",
        "\n",
        "        :return: a dict with the following keys:\n",
        "                 - 'output': a shape [N] tensor of NLLs or KLs.\n",
        "                 - 'pred_xstart': the x_0 predictions.\n",
        "        \"\"\"\n",
        "        true_mean, _, true_log_variance_clipped = self.q_posterior_mean_variance(\n",
        "            x0=x_start, xt=x_t, t=t\n",
        "        )\n",
        "        out = self.p_mean_variance(\n",
        "            model, x_t, t, y\n",
        "        )\n",
        "        kl = normal_kl(\n",
        "            true_mean, true_log_variance_clipped, out[\"mean\"], out[\"log_variance\"]\n",
        "        )\n",
        "        kl = mean_flat(kl) / np.log(2.0)\n",
        "\n",
        "        decoder_nll = -discretized_gaussian_log_likelihood(\n",
        "            x_start, means=out[\"mean\"], log_scales=0.5 * out[\"log_variance\"]\n",
        "        )\n",
        "        assert decoder_nll.shape == x_start.shape\n",
        "        decoder_nll = mean_flat(decoder_nll) / np.log(2.0)\n",
        "\n",
        "        # At the first timestep return the decoder NLL,\n",
        "        # otherwise return KL(q(x_{t-1}|x_t,x_0) || p(x_{t-1}|x_t))\n",
        "        output = torch.where((t == 0), decoder_nll, kl)\n",
        "        return {\"output\": output, \"pred_xstart\": out[\"pred_xstart\"]}\n",
        "\n",
        "    def training_losses(self, model, x_start, t, noise, y):\n",
        "        \"\"\"\n",
        "        MSE Loss and Variational Lower Bound Loss.\n",
        "        \"\"\"\n",
        "        x_t = self.add_noise(x_start, noise, t)\n",
        "        model_output = model(x_t.float(), self.scale_timestep(t), y)\n",
        "\n",
        "        # Model Output and Variance\n",
        "        B, C, H, W = x_start.shape\n",
        "        model_output, model_var_values = torch.split(model_output, C, dim=1)\n",
        "\n",
        "        # Learn the variance using the variational bound, but don't let\n",
        "        # it affect our mean prediction.\n",
        "        frozen_out = torch.cat([model_output.detach(), model_var_values], dim=1)\n",
        "        vlb_loss = self._vb_terms_bpd(\n",
        "            model=lambda *args, r=frozen_out: r,\n",
        "            x_start=x_start,\n",
        "            x_t=x_t,\n",
        "            t=t,\n",
        "            y=y\n",
        "        )[\"output\"]\n",
        "\n",
        "        # Divide by 1000 for equivalence with initial implementation.\n",
        "        # Without a factor of 1/1000, the VB term hurts the MSE term.\n",
        "        #vlb_loss *= 1 / 1000.0\n",
        "\n",
        "        # MSE Loss\n",
        "        mse_loss = mean_flat((noise - model_output) ** 2)\n",
        "\n",
        "        return { \"mse_loss\": mse_loss, \"vlb_loss\": vlb_loss}\n",
        "\n",
        "    def scale_timestep(self, timestep):\n",
        "        \"\"\"\n",
        "        This is to make sure we are feeding correct timestep\n",
        "        to the model. (comes handy during sampling with lower timesteps)\n",
        "        \"\"\"\n",
        "        return torch.tensor([self.use_timesteps.to(timestep.device)[int(t)].item() for t in timestep], device=timestep.device)\n",
        "\n",
        "    @staticmethod\n",
        "    def _calc_gradient(x, t, y, classifier):\n",
        "        \"\"\"\n",
        "        Calculate Classifier Gradient of the image x at timestep t.\n",
        "        \"\"\"\n",
        "        with torch.enable_grad():\n",
        "            x_in = x.detach().requires_grad_(True)\n",
        "            logits = classifier(x_in, t)\n",
        "            log_probs = F.log_softmax(logits, dim=-1)\n",
        "            selected = log_probs[range(len(logits)), y.view(-1)]\n",
        "            return torch.autograd.grad(selected.sum(), x_in)[0]\n",
        "\n",
        "\n",
        "    @staticmethod\n",
        "    def _coeff_broadcasting(coeff, timesteps):\n",
        "\n",
        "        \"\"\"\n",
        "        Device Mapping and Broadcasting of the Diffusion\n",
        "        Process Coefficients to the same shape as Input tensors\n",
        "        (B, C, H, W).\n",
        "        \"\"\"\n",
        "\n",
        "        # Make coef on the same device as timesteps\n",
        "        coeff = coeff.to(timesteps.device)[timesteps.long()]\n",
        "\n",
        "        # Broadcast\n",
        "        coeff = coeff[:,None, None, None]\n",
        "\n",
        "        return coeff\n",
        "\n"
      ],
      "metadata": {
        "id": "oBl9DQBGGVNO"
      },
      "execution_count": 11,
      "outputs": []
    },
    {
      "cell_type": "markdown",
      "source": [
        "## UNet Architecture"
      ],
      "metadata": {
        "id": "LzZmWbF8GvYX"
      }
    },
    {
      "cell_type": "markdown",
      "source": [
        "### Utility Modules"
      ],
      "metadata": {
        "id": "JouziDtWG77E"
      }
    },
    {
      "cell_type": "code",
      "source": [
        "def get_time_embedding(\n",
        "    time_steps: torch.Tensor,\n",
        "    t_emb_dim: int\n",
        ") -> torch.Tensor:\n",
        "\n",
        "    \"\"\"\n",
        "    Transform a scalar time-step into a vector representation of size t_emb_dim.\n",
        "\n",
        "    :param time_steps: 1D tensor of size -> (Batch,)\n",
        "    :param t_emb_dim: Embedding Dimension -> for ex: 128 (scalar value)\n",
        "\n",
        "    :return tensor of size -> (B, t_emb_dim)\n",
        "    \"\"\"\n",
        "\n",
        "    assert t_emb_dim%2 == 0, \"time embedding must be divisible by 2.\"\n",
        "\n",
        "    factor = 2 * torch.arange(start = 0,\n",
        "                              end = t_emb_dim//2,\n",
        "                              dtype=torch.float32,\n",
        "                              device=time_steps.device\n",
        "                             ) / (t_emb_dim)\n",
        "\n",
        "    factor = 10000**factor\n",
        "\n",
        "    t_emb = time_steps[:,None] # B -> (B, 1)\n",
        "    t_emb = t_emb/factor # (B, 1) -> (B, t_emb_dim//2)\n",
        "    t_emb = torch.cat([torch.sin(t_emb), torch.cos(t_emb)], dim=1) # (B , t_emb_dim)\n",
        "\n",
        "    return t_emb\n"
      ],
      "metadata": {
        "id": "jLZaRW9PGxnK"
      },
      "execution_count": 12,
      "outputs": []
    },
    {
      "cell_type": "code",
      "source": [
        "import torch.nn as nn\n",
        "\n",
        "class NormActConv(nn.Module):\n",
        "    \"\"\"\n",
        "    Perform GroupNorm, Activation, and Convolution operations.\n",
        "    \"\"\"\n",
        "    def __init__(self,\n",
        "                 in_channels:int,\n",
        "                 out_channels:int,\n",
        "                 num_groups:int = 8,\n",
        "                 kernel_size: int = 3,\n",
        "                 norm:bool = True,\n",
        "                 act:bool = True\n",
        "                ):\n",
        "        super(NormActConv, self).__init__()\n",
        "\n",
        "        # GroupNorm\n",
        "        self.g_norm = nn.GroupNorm(\n",
        "            num_groups,\n",
        "            in_channels\n",
        "        ) if norm is True else nn.Identity()\n",
        "\n",
        "        # Activation\n",
        "        self.act = nn.SiLU() if act is True else nn.Identity()\n",
        "\n",
        "        # Convolution\n",
        "        self.conv = nn.Conv2d(\n",
        "            in_channels,\n",
        "            out_channels,\n",
        "            kernel_size,\n",
        "            padding=(kernel_size - 1)//2\n",
        "        )\n",
        "\n",
        "    def forward(self, x):\n",
        "        x = self.g_norm(x)\n",
        "        x = self.act(x)\n",
        "        x = self.conv(x)\n",
        "        return x\n",
        "\n",
        "    # Making this class subscriptable for later use.\n",
        "    def __getitem__(self, index):\n",
        "        if index == 0:\n",
        "            return self.g_norm\n",
        "        elif index == 1:\n",
        "            return nn.Sequential(self.act,\n",
        "                                 self.conv\n",
        "                                )\n",
        "        else:\n",
        "            raise IndexError('Index out of range. Valid indices are 0, 1')\n",
        "\n",
        "#-----------------------------------------------------------------\n",
        "\n",
        "class TimeEmbedding(nn.Module):\n",
        "    \"\"\"\n",
        "    Maps the Time Embedding to the Required output Dimension.\n",
        "    \"\"\"\n",
        "    def __init__(self,\n",
        "                 n_out:int, # Output Dimension\n",
        "                 t_emb_dim:int = 128 # Time Embedding Dimension\n",
        "                ):\n",
        "        super(TimeEmbedding, self).__init__()\n",
        "\n",
        "        # Time Embedding Block\n",
        "        self.te_block = nn.Sequential(\n",
        "            nn.SiLU(),\n",
        "            nn.Linear(t_emb_dim, n_out)\n",
        "        )\n",
        "\n",
        "    def forward(self, x):\n",
        "        return self.te_block(x)\n",
        "\n",
        "#---------------------------------------------------------------\n",
        "\n",
        "class SelfAttentionBlock(nn.Module):\n",
        "    \"\"\"\n",
        "    Perform GroupNorm and Multiheaded Self Attention operation.\n",
        "    \"\"\"\n",
        "    def __init__(self,\n",
        "                 num_channels:int,\n",
        "                 num_groups:int = 8,\n",
        "                 num_heads:int = 4,\n",
        "                 norm:bool = True\n",
        "                ):\n",
        "        super(SelfAttentionBlock, self).__init__()\n",
        "\n",
        "        # GroupNorm\n",
        "        self.g_norm = nn.GroupNorm(\n",
        "            num_groups,\n",
        "            num_channels\n",
        "        ) if norm is True else nn.Identity()\n",
        "\n",
        "        # Self-Attention\n",
        "        self.attn = nn.MultiheadAttention(\n",
        "            num_channels,\n",
        "            num_heads,\n",
        "            batch_first=True\n",
        "        )\n",
        "\n",
        "    def forward(self, x):\n",
        "        batch_size, channels, h, w = x.shape\n",
        "        x = x.reshape(batch_size, channels, h*w)\n",
        "        x = self.g_norm(x)\n",
        "        x = x.transpose(1, 2)\n",
        "        x, _ = self.attn(x, x, x)\n",
        "        x = x.transpose(1, 2).reshape(batch_size, channels, h, w)\n",
        "        return x\n",
        "\n",
        "#----------------------------------------------------------------\n",
        "\n",
        "class Downsample(nn.Module):\n",
        "    \"\"\"\n",
        "    Perform Downsampling by the factor of k across Height and Width.\n",
        "    \"\"\"\n",
        "    def __init__(self,\n",
        "                 in_channels:int,\n",
        "                 out_channels:int,\n",
        "                 k:int = 2, # Downsampling factor\n",
        "                 use_conv:bool = True, # If Downsampling using conv-block\n",
        "                 use_mpool:bool = True # If Downsampling using max-pool\n",
        "                ):\n",
        "        super(Downsample, self).__init__()\n",
        "\n",
        "        self.use_conv = use_conv\n",
        "        self.use_mpool = use_mpool\n",
        "\n",
        "        # Downsampling using Convolution\n",
        "        self.cv = nn.Sequential(\n",
        "            nn.Conv2d(in_channels, in_channels, kernel_size=1),\n",
        "            nn.Conv2d(\n",
        "                in_channels,\n",
        "                out_channels//2 if use_mpool else out_channels,\n",
        "                kernel_size=4,\n",
        "                stride=k,\n",
        "                padding=1\n",
        "            )\n",
        "        ) if use_conv else nn.Identity()\n",
        "\n",
        "        # Downsampling using Maxpool\n",
        "        self.mpool = nn.Sequential(\n",
        "            nn.MaxPool2d(k, k),\n",
        "            nn.Conv2d(\n",
        "                in_channels,\n",
        "                out_channels//2 if use_conv else out_channels,\n",
        "                kernel_size=1,\n",
        "                stride=1,\n",
        "                padding=0\n",
        "            )\n",
        "        ) if use_mpool else nn.Identity()\n",
        "\n",
        "    def forward(self, x):\n",
        "\n",
        "        if not self.use_conv:\n",
        "            return self.mpool(x)\n",
        "\n",
        "        if not self.use_mpool:\n",
        "            return self.cv(x)\n",
        "\n",
        "        return torch.cat([self.cv(x), self.mpool(x)], dim=1)\n",
        "\n",
        "#-----------------------------------------------------------------------\n",
        "\n",
        "class Upsample(nn.Module):\n",
        "    \"\"\"\n",
        "    Perform Upsampling by the factor of k across Height and Width\n",
        "    \"\"\"\n",
        "    def __init__(self,\n",
        "                 in_channels:int,\n",
        "                 out_channels:int,\n",
        "                 k:int = 2, # Upsampling factor\n",
        "                 use_conv:bool = True, # Upsampling using conv-block\n",
        "                 use_upsample:bool = True # Upsampling using nn.upsample\n",
        "                ):\n",
        "        super(Upsample, self).__init__()\n",
        "\n",
        "        self.use_conv = use_conv\n",
        "        self.use_upsample = use_upsample\n",
        "\n",
        "        # Upsampling using conv\n",
        "        self.cv = nn.Sequential(\n",
        "            nn.ConvTranspose2d(\n",
        "                in_channels,\n",
        "                out_channels//2 if use_upsample else out_channels,\n",
        "                kernel_size=4,\n",
        "                stride=k,\n",
        "                padding=1\n",
        "            ),\n",
        "            nn.Conv2d(\n",
        "                out_channels//2 if use_upsample else out_channels,\n",
        "                out_channels//2 if use_upsample else out_channels,\n",
        "                kernel_size = 1,\n",
        "                stride=1,\n",
        "                padding=0\n",
        "            )\n",
        "        ) if use_conv else nn.Identity()\n",
        "\n",
        "        # Upsamling using nn.Upsample\n",
        "        self.up = nn.Sequential(\n",
        "            nn.Upsample(\n",
        "                scale_factor=k,\n",
        "                mode = 'bilinear',\n",
        "                align_corners=False\n",
        "            ),\n",
        "            nn.Conv2d(\n",
        "                in_channels,\n",
        "                out_channels//2 if use_conv else out_channels,\n",
        "                kernel_size=1,\n",
        "                stride=1,\n",
        "                padding=0\n",
        "            )\n",
        "        ) if use_upsample else nn.Identity()\n",
        "\n",
        "    def forward(self, x):\n",
        "\n",
        "        if not self.use_conv:\n",
        "            return self.up(x)\n",
        "\n",
        "        if not self.use_upsample:\n",
        "            return self.cv(x)\n",
        "\n",
        "        return torch.cat([self.cv(x), self.up(x)], dim=1)\n"
      ],
      "metadata": {
        "id": "e_4O2EgmHEP6"
      },
      "execution_count": 13,
      "outputs": []
    },
    {
      "cell_type": "markdown",
      "source": [
        "### DownC block"
      ],
      "metadata": {
        "id": "66uWh_pYHGi3"
      }
    },
    {
      "cell_type": "code",
      "source": [
        "class DownC(nn.Module):\n",
        "    \"\"\"\n",
        "    Perform Down-convolution on the input using following approach.\n",
        "    1. Conv + TimeEmbedding\n",
        "    2. Conv\n",
        "    3. Skip-connection from input x.\n",
        "    4. Self-Attention\n",
        "    5. Skip-Connection from 3.\n",
        "    6. Downsampling\n",
        "    \"\"\"\n",
        "    def __init__(self,\n",
        "                 in_channels:int,\n",
        "                 out_channels:int,\n",
        "                 t_emb_dim:int = 128, # Time Embedding Dimension\n",
        "                 num_layers:int=2,\n",
        "                 down_sample:bool = True, # True for Downsampling\n",
        "                 use_scale_shift_norm:bool = True # Use scale shift norm\n",
        "                ):\n",
        "        super(DownC, self).__init__()\n",
        "\n",
        "        self.num_layers = num_layers\n",
        "        self.use_scale_shift_norm = use_scale_shift_norm\n",
        "\n",
        "        self.conv1 = nn.ModuleList([\n",
        "            NormActConv(in_channels if i==0 else out_channels,\n",
        "                        out_channels\n",
        "                       ) for i in range(num_layers)\n",
        "        ])\n",
        "\n",
        "        self.conv2 = nn.ModuleList([\n",
        "            NormActConv(out_channels,\n",
        "                        out_channels\n",
        "                       ) for _ in range(num_layers)\n",
        "        ])\n",
        "\n",
        "        self.te_block = nn.ModuleList([\n",
        "            TimeEmbedding(2 * out_channels if use_scale_shift_norm else out_channels,\n",
        "                          t_emb_dim\n",
        "                         ) for _ in range(num_layers)\n",
        "        ])\n",
        "\n",
        "        self.attn_block = nn.ModuleList([\n",
        "            SelfAttentionBlock(out_channels) for _ in range(num_layers)\n",
        "        ])\n",
        "\n",
        "        self.down_block =Downsample(out_channels, out_channels) if down_sample else nn.Identity()\n",
        "\n",
        "        self.res_block = nn.ModuleList([\n",
        "            nn.Conv2d(\n",
        "                in_channels if i==0 else out_channels,\n",
        "                out_channels,\n",
        "                kernel_size=1\n",
        "            ) for i in range(num_layers)\n",
        "        ])\n",
        "\n",
        "    def forward(self, x, t_emb):\n",
        "\n",
        "        out = x\n",
        "\n",
        "        for i in range(self.num_layers):\n",
        "            resnet_input = out\n",
        "\n",
        "            # Resnet Block\n",
        "            out = self.conv1[i](out)\n",
        "            emb_out = self.te_block[i](t_emb)[:, :, None, None]\n",
        "            if self.use_scale_shift_norm:\n",
        "                out_norm, out_rest = self.conv2[i][0], self.conv2[i][1]\n",
        "                scale, shift = torch.chunk(emb_out, 2, dim=1)\n",
        "                out = out_norm(out) * (1 + scale) + shift\n",
        "                out = out_rest(out)\n",
        "            else:\n",
        "                out = out + emb_out\n",
        "                out = self.conv2[i](out)\n",
        "\n",
        "            out = out + self.res_block[i](resnet_input)\n",
        "\n",
        "            # Self Attention\n",
        "            out_attn = self.attn_block[i](out)\n",
        "            out = out + out_attn\n",
        "\n",
        "        # Downsampling\n",
        "        out = self.down_block(out)\n",
        "\n",
        "        return out\n"
      ],
      "metadata": {
        "id": "soHUIGmAHIjy"
      },
      "execution_count": 14,
      "outputs": []
    },
    {
      "cell_type": "markdown",
      "source": [
        "### MidC block"
      ],
      "metadata": {
        "id": "saMT7awtHMWo"
      }
    },
    {
      "cell_type": "code",
      "source": [
        "class MidC(nn.Module):\n",
        "    \"\"\"\n",
        "    Refine the features obtained from the DownC block.\n",
        "    It refines the features using following operations:\n",
        "\n",
        "    1. Resnet Block with Time Embedding\n",
        "    2. A Series of Self-Attention + Resnet Block with Time-Embedding\n",
        "    \"\"\"\n",
        "    def __init__(self,\n",
        "                 in_channels:int,\n",
        "                 out_channels:int,\n",
        "                 t_emb_dim:int = 128,\n",
        "                 num_layers:int = 2,\n",
        "                 use_scale_shift_norm:bool = True # Use scale shift norm\n",
        "                ):\n",
        "        super(MidC, self).__init__()\n",
        "\n",
        "        self.num_layers = num_layers\n",
        "        self.use_scale_shift_norm = use_scale_shift_norm\n",
        "\n",
        "        self.conv1 = nn.ModuleList([\n",
        "            NormActConv(in_channels if i==0 else out_channels,\n",
        "                        out_channels\n",
        "                       ) for i in range(num_layers + 1)\n",
        "        ])\n",
        "\n",
        "        self.conv2 = nn.ModuleList([\n",
        "            NormActConv(out_channels,\n",
        "                        out_channels\n",
        "                       ) for _ in range(num_layers + 1)\n",
        "        ])\n",
        "\n",
        "        self.te_block = nn.ModuleList([\n",
        "            TimeEmbedding(2 * out_channels if use_scale_shift_norm else out_channels,\n",
        "                          t_emb_dim\n",
        "                         ) for _ in range(num_layers + 1)\n",
        "        ])\n",
        "\n",
        "        self.attn_block = nn.ModuleList([\n",
        "            SelfAttentionBlock(out_channels) for _ in range(num_layers)\n",
        "        ])\n",
        "\n",
        "        self.res_block = nn.ModuleList([\n",
        "            nn.Conv2d(\n",
        "                in_channels if i==0 else out_channels,\n",
        "                out_channels,\n",
        "                kernel_size=1\n",
        "            ) for i in range(num_layers + 1)\n",
        "        ])\n",
        "\n",
        "    def forward(self, x, t_emb):\n",
        "        out = x\n",
        "\n",
        "        # First-Resnet Block\n",
        "        resnet_input = out\n",
        "\n",
        "        # Resnet Block\n",
        "        out = self.conv1[0](out)\n",
        "        emb_out = self.te_block[0](t_emb)[:, :, None, None]\n",
        "        if self.use_scale_shift_norm:\n",
        "            out_norm, out_rest = self.conv2[0][0], self.conv2[0][1]\n",
        "            scale, shift = torch.chunk(emb_out, 2, dim=1)\n",
        "            out = out_norm(out) * (1 + scale) + shift\n",
        "            out = out_rest(out)\n",
        "        else:\n",
        "            out = out + emb_out\n",
        "            out = self.conv2[0](out)\n",
        "\n",
        "        out = out + self.res_block[0](resnet_input)\n",
        "\n",
        "\n",
        "        # Sequence of Self-Attention + Resnet Blocks\n",
        "        for i in range(self.num_layers):\n",
        "\n",
        "            # Self Attention\n",
        "            out_attn = self.attn_block[i](out)\n",
        "            out = out + out_attn\n",
        "\n",
        "            # Resnet Block\n",
        "            resnet_input = out\n",
        "            out = self.conv1[i+1](out)\n",
        "            emb_out = self.te_block[i+1](t_emb)[:, :, None, None]\n",
        "            if self.use_scale_shift_norm:\n",
        "                out_norm, out_rest = self.conv2[i+1][0], self.conv2[i+1][1]\n",
        "                scale, shift = torch.chunk(emb_out, 2, dim=1)\n",
        "                out = out_norm(out) * (1 + scale) + shift\n",
        "                out = out_rest(out)\n",
        "            else:\n",
        "                out = out + emb_out\n",
        "                out = self.conv2[i+1](out)\n",
        "\n",
        "            out = out + self.res_block[i+1](resnet_input)\n",
        "\n",
        "        return out\n"
      ],
      "metadata": {
        "id": "IeYoPQG0HOeG"
      },
      "execution_count": 15,
      "outputs": []
    },
    {
      "cell_type": "markdown",
      "source": [
        "### UpC block"
      ],
      "metadata": {
        "id": "HCddS2h-HSg7"
      }
    },
    {
      "cell_type": "code",
      "source": [
        "class UpC(nn.Module):\n",
        "    \"\"\"\n",
        "    Perform Up-convolution on the input using following approach.\n",
        "    1. Upsampling\n",
        "    2. Conv + TimeEmbedding\n",
        "    3. Conv\n",
        "    4. Skip-connection from 1.\n",
        "    5. Self-Attention\n",
        "    6. Skip-Connection from 3.\n",
        "    \"\"\"\n",
        "    def __init__(self,\n",
        "                 in_channels:int,\n",
        "                 out_channels:int,\n",
        "                 t_emb_dim:int = 128, # Time Embedding Dimension\n",
        "                 num_layers:int = 2,\n",
        "                 up_sample:bool = True, # True for Upsampling\n",
        "                 use_scale_shift_norm:bool = True # Use scale shift norm\n",
        "                ):\n",
        "        super(UpC, self).__init__()\n",
        "\n",
        "        self.num_layers = num_layers\n",
        "        self.use_scale_shift_norm = use_scale_shift_norm\n",
        "\n",
        "        self.conv1 = nn.ModuleList([\n",
        "            NormActConv(in_channels if i==0 else out_channels,\n",
        "                        out_channels\n",
        "                       ) for i in range(num_layers)\n",
        "        ])\n",
        "\n",
        "        self.conv2 = nn.ModuleList([\n",
        "            NormActConv(out_channels,\n",
        "                        out_channels\n",
        "                       ) for _ in range(num_layers)\n",
        "        ])\n",
        "\n",
        "        self.te_block = nn.ModuleList([\n",
        "            TimeEmbedding(2 * out_channels if use_scale_shift_norm else out_channels,\n",
        "                          t_emb_dim\n",
        "                         ) for _ in range(num_layers)\n",
        "        ])\n",
        "\n",
        "        self.attn_block = nn.ModuleList([\n",
        "            SelfAttentionBlock(out_channels) for _ in range(num_layers)\n",
        "        ])\n",
        "\n",
        "        self.up_block =Upsample(in_channels, in_channels//2) if up_sample else nn.Identity()\n",
        "\n",
        "        self.res_block = nn.ModuleList([\n",
        "            nn.Conv2d(\n",
        "                in_channels if i==0 else out_channels,\n",
        "                out_channels,\n",
        "                kernel_size=1\n",
        "            ) for i in range(num_layers)\n",
        "        ])\n",
        "\n",
        "    def forward(self, x, down_out, t_emb):\n",
        "\n",
        "        # Upsampling\n",
        "        x = self.up_block(x)\n",
        "        x = torch.cat([x, down_out], dim=1)\n",
        "\n",
        "        out = x\n",
        "        for i in range(self.num_layers):\n",
        "            resnet_input = out\n",
        "\n",
        "            # Resnet Block\n",
        "            out = self.conv1[i](out)\n",
        "            emb_out = self.te_block[i](t_emb)[:, :, None, None]\n",
        "            if self.use_scale_shift_norm:\n",
        "                out_norm, out_rest = self.conv2[i][0], self.conv2[i][1]\n",
        "                scale, shift = torch.chunk(emb_out, 2, dim=1)\n",
        "                out = out_norm(out) * (1 + scale) + shift\n",
        "                out = out_rest(out)\n",
        "            else:\n",
        "                out = out + emb_out\n",
        "                out = self.conv2[i](out)\n",
        "\n",
        "            out = out + self.res_block[i](resnet_input)\n",
        "\n",
        "            # Self Attention\n",
        "            out_attn = self.attn_block[i](out)\n",
        "            out = out + out_attn\n",
        "\n",
        "        return out\n"
      ],
      "metadata": {
        "id": "-pFxBuQLHUtm"
      },
      "execution_count": 16,
      "outputs": []
    },
    {
      "cell_type": "markdown",
      "source": [
        "### U-Net"
      ],
      "metadata": {
        "id": "oQ_EciDtHY1Y"
      }
    },
    {
      "cell_type": "code",
      "source": [
        "class Unet(nn.Module):\n",
        "    \"\"\"\n",
        "    U-net architecture which is used to predict noise and\n",
        "    variance defining vector v in the paper\n",
        "    \"Diffusion Models Beat GANs on Image Synthesis\".\n",
        "\n",
        "    U-net consists of Series of DownC blocks followed by MidC\n",
        "    followed by UpC.\n",
        "    \"\"\"\n",
        "\n",
        "    def __init__(self,\n",
        "                 im_channels: int = 1, # GRAY\n",
        "                 down_ch: list = [32, 64, 128, 256],\n",
        "                 mid_ch: list = [256, 256, 128],\n",
        "                 up_ch: list[int] = [256, 128, 64, 16],\n",
        "                 down_sample: list[bool] = [True, True, False],\n",
        "                 t_emb_dim: int = 128,\n",
        "                 num_downc_layers:int = 2,\n",
        "                 num_midc_layers:int = 2,\n",
        "                 num_upc_layers:int = 2,\n",
        "                 use_scale_shift_norm:bool = True,\n",
        "                 num_classes:int = 10\n",
        "                ):\n",
        "        super(Unet, self).__init__()\n",
        "\n",
        "        self.im_channels = im_channels\n",
        "        self.down_ch = down_ch\n",
        "        self.mid_ch = mid_ch\n",
        "        self.up_ch = up_ch\n",
        "        self.t_emb_dim = t_emb_dim\n",
        "        self.down_sample = down_sample\n",
        "        self.num_downc_layers = num_downc_layers\n",
        "        self.num_midc_layers = num_midc_layers\n",
        "        self.num_upc_layers = num_upc_layers\n",
        "        self.use_scale_shift_norm = use_scale_shift_norm\n",
        "        self.num_classes = num_classes\n",
        "\n",
        "        self.up_sample = list(reversed(self.down_sample)) # [False, True, True]\n",
        "\n",
        "        # Initial Convolution\n",
        "        self.cv1 = nn.Conv2d(self.im_channels, self.down_ch[0], kernel_size=3, padding=1)\n",
        "\n",
        "        # Initial Time Embedding Projection\n",
        "        self.t_proj = nn.Sequential(\n",
        "            nn.Linear(self.t_emb_dim, self.t_emb_dim),\n",
        "            nn.SiLU(),\n",
        "            nn.Linear(self.t_emb_dim, self.t_emb_dim)\n",
        "        )\n",
        "\n",
        "        # Class conditioning\n",
        "        if self.num_classes is not None:\n",
        "            self.label_emb = nn.Embedding(self.num_classes, self.t_emb_dim)\n",
        "\n",
        "        # DownC Blocks\n",
        "        self.downs = nn.ModuleList([\n",
        "            DownC(\n",
        "                self.down_ch[i],\n",
        "                self.down_ch[i+1],\n",
        "                self.t_emb_dim,\n",
        "                self.num_downc_layers,\n",
        "                self.down_sample[i],\n",
        "                self.use_scale_shift_norm\n",
        "            ) for i in range(len(self.down_ch) - 1)\n",
        "        ])\n",
        "\n",
        "        # MidC Block\n",
        "        self.mids = nn.ModuleList([\n",
        "            MidC(\n",
        "                self.mid_ch[i],\n",
        "                self.mid_ch[i+1],\n",
        "                self.t_emb_dim,\n",
        "                self.num_midc_layers,\n",
        "                self.use_scale_shift_norm\n",
        "            ) for i in range(len(self.mid_ch) - 1)\n",
        "        ])\n",
        "\n",
        "        # UpC Block\n",
        "        self.ups = nn.ModuleList([\n",
        "            UpC(\n",
        "                self.up_ch[i],\n",
        "                self.up_ch[i+1],\n",
        "                self.t_emb_dim,\n",
        "                self.num_upc_layers,\n",
        "                self.up_sample[i],\n",
        "                self.use_scale_shift_norm\n",
        "            ) for i in range(len(self.up_ch) - 1)\n",
        "        ])\n",
        "\n",
        "        # Final Convolution\n",
        "        self.cv2 = nn.Sequential(\n",
        "            nn.GroupNorm(8, self.up_ch[-1]),\n",
        "            nn.Conv2d(self.up_ch[-1], self.im_channels * 2, kernel_size=3, padding=1)\n",
        "        )\n",
        "\n",
        "    def forward(self, x, t, y):\n",
        "\n",
        "        out = self.cv1(x)\n",
        "\n",
        "        # Time Projection\n",
        "        t_emb = get_time_embedding(t, self.t_emb_dim)\n",
        "        t_emb = self.t_proj(t_emb)\n",
        "\n",
        "        # Class conditional\n",
        "        if self.num_classes is not None:\n",
        "            t_emb = t_emb + self.label_emb(y)\n",
        "\n",
        "        # DownC outputs\n",
        "        down_outs = []\n",
        "\n",
        "        for down in self.downs:\n",
        "            down_outs.append(out)\n",
        "            out = down(out, t_emb)\n",
        "\n",
        "        # MidC outputs\n",
        "        for mid in self.mids:\n",
        "            out = mid(out, t_emb)\n",
        "\n",
        "        # UpC Blocks\n",
        "        for up in self.ups:\n",
        "            down_out = down_outs.pop()\n",
        "            out = up(out, down_out, t_emb)\n",
        "\n",
        "        # Final Conv\n",
        "        out = self.cv2(out)\n",
        "\n",
        "        return out"
      ],
      "metadata": {
        "id": "V5lLJTtmHapB"
      },
      "execution_count": 17,
      "outputs": []
    },
    {
      "cell_type": "code",
      "source": [
        "# Test\n",
        "model = Unet()\n",
        "x = torch.randn(1, 1, 32, 32)\n",
        "t = torch.randint(0, 10, (1,))\n",
        "y = torch.randint(0, 10, (1,))\n",
        "model(x, t, y).shape\n"
      ],
      "metadata": {
        "colab": {
          "base_uri": "https://localhost:8080/"
        },
        "id": "TnqxtyWyHe2G",
        "outputId": "cf492ab3-01ae-4fda-b6ba-0890efc6abed"
      },
      "execution_count": 18,
      "outputs": [
        {
          "output_type": "execute_result",
          "data": {
            "text/plain": [
              "torch.Size([1, 2, 32, 32])"
            ]
          },
          "metadata": {},
          "execution_count": 18
        }
      ]
    },
    {
      "cell_type": "markdown",
      "source": [
        "### UNet classifier"
      ],
      "metadata": {
        "id": "a6IhvRosHvzk"
      }
    },
    {
      "cell_type": "code",
      "source": [
        "class UnetClassifier(nn.Module):\n",
        "    \"\"\"\n",
        "    U-net Classifier architecture; Almost same as Unet\n",
        "    architecture except UpC layer.\n",
        "    1. will be trained on noisy images obtained\n",
        "    by forward diffusion process and labels.\n",
        "    2. will be used for classifier guidance\n",
        "    during sampling process.\n",
        "    \"\"\"\n",
        "\n",
        "    def __init__(self,\n",
        "                 im_channels: int = 1, # GRAY\n",
        "                 down_ch: list = [32, 64, 128, 256],\n",
        "                 mid_ch: list = [256, 256, 128],\n",
        "                 down_sample: list[bool] = [True, True, False],\n",
        "                 t_emb_dim: int = 128,\n",
        "                 num_downc_layers:int = 2,\n",
        "                 num_midc_layers:int = 2,\n",
        "                 use_scale_shift_norm:bool = True,\n",
        "                 num_classes:int = 10 # MNIST\n",
        "                ):\n",
        "        super(UnetClassifier, self).__init__()\n",
        "\n",
        "        self.im_channels = im_channels\n",
        "        self.down_ch = down_ch\n",
        "        self.mid_ch = mid_ch\n",
        "        self.t_emb_dim = t_emb_dim\n",
        "        self.down_sample = down_sample\n",
        "        self.num_downc_layers = num_downc_layers\n",
        "        self.num_midc_layers = num_midc_layers\n",
        "        self.use_scale_shift_norm = use_scale_shift_norm\n",
        "        self.num_classes = num_classes\n",
        "\n",
        "        # Initial Convolution\n",
        "        self.cv1 = nn.Conv2d(self.im_channels, self.down_ch[0], kernel_size=3, padding=1)\n",
        "\n",
        "        # Initial Time Embedding Projection\n",
        "        self.t_proj = nn.Sequential(\n",
        "            nn.Linear(self.t_emb_dim, self.t_emb_dim),\n",
        "            nn.SiLU(),\n",
        "            nn.Linear(self.t_emb_dim, self.t_emb_dim)\n",
        "        )\n",
        "\n",
        "\n",
        "        # DownC Blocks\n",
        "        self.downs = nn.ModuleList([\n",
        "            DownC(\n",
        "                self.down_ch[i],\n",
        "                self.down_ch[i+1],\n",
        "                self.t_emb_dim,\n",
        "                self.num_downc_layers,\n",
        "                self.down_sample[i],\n",
        "                self.use_scale_shift_norm\n",
        "            ) for i in range(len(self.down_ch) - 1)\n",
        "        ])\n",
        "\n",
        "        # MidC Block\n",
        "        self.mids = nn.ModuleList([\n",
        "            MidC(\n",
        "                self.mid_ch[i],\n",
        "                self.mid_ch[i+1],\n",
        "                self.t_emb_dim,\n",
        "                self.num_midc_layers,\n",
        "                self.use_scale_shift_norm\n",
        "            ) for i in range(len(self.mid_ch) - 1)\n",
        "        ])\n",
        "\n",
        "        # Out\n",
        "        self.head = nn.Sequential(\n",
        "            nn.AdaptiveAvgPool2d((1, 1)),\n",
        "            nn.Flatten(),\n",
        "            nn.Linear(self.mid_ch[-1], self.num_classes)\n",
        "        )\n",
        "\n",
        "\n",
        "    def forward(self, x, t):\n",
        "\n",
        "        out = self.cv1(x)\n",
        "\n",
        "        # Time Projection\n",
        "        t_emb = get_time_embedding(t, self.t_emb_dim)\n",
        "        t_emb = self.t_proj(t_emb)\n",
        "\n",
        "        for down in self.downs:\n",
        "            out = down(out, t_emb)\n",
        "\n",
        "        # MidC outputs\n",
        "        for mid in self.mids:\n",
        "            out = mid(out, t_emb)\n",
        "\n",
        "        return self.head(out)\n"
      ],
      "metadata": {
        "id": "nzI8GmWiHzge"
      },
      "execution_count": 19,
      "outputs": []
    },
    {
      "cell_type": "code",
      "source": [
        "# Test\n",
        "model = UnetClassifier()\n",
        "x = torch.randn(4, 1, 32, 32)\n",
        "t = torch.randint(0, 10, (4,))\n",
        "model(x, t).shape\n"
      ],
      "metadata": {
        "colab": {
          "base_uri": "https://localhost:8080/"
        },
        "id": "GrWTLH-SH8sJ",
        "outputId": "6952e8e3-040b-4711-c14a-5ccb73b696da"
      },
      "execution_count": 20,
      "outputs": [
        {
          "output_type": "execute_result",
          "data": {
            "text/plain": [
              "torch.Size([4, 10])"
            ]
          },
          "metadata": {},
          "execution_count": 20
        }
      ]
    },
    {
      "cell_type": "markdown",
      "source": [
        "## Training Utilities"
      ],
      "metadata": {
        "id": "R6p_YWjhID8B"
      }
    },
    {
      "cell_type": "markdown",
      "source": [
        "### Configuration"
      ],
      "metadata": {
        "id": "bgjGoTbXJgS3"
      }
    },
    {
      "cell_type": "code",
      "source": [
        "image_size = 32;"
      ],
      "metadata": {
        "id": "Xd5YT0eWIGLM"
      },
      "execution_count": 21,
      "outputs": []
    },
    {
      "cell_type": "markdown",
      "source": [
        "### Dataset"
      ],
      "metadata": {
        "id": "l1LBbnRoIgzT"
      }
    },
    {
      "cell_type": "code",
      "source": [
        "import os\n",
        "from PIL import Image\n",
        "import torchvision.transforms as transforms\n",
        "from torch.utils.data import Dataset, DataLoader\n",
        "\n",
        "class PNGImageDataset(Dataset):\n",
        "    def __init__(self, root_dir, transform=None):\n",
        "        self.root_dir = root_dir\n",
        "        self.transform = transform\n",
        "        self.image_paths = [os.path.join(root_dir, filename) for filename in os.listdir(root_dir) if filename.endswith('.png')]\n",
        "\n",
        "    def __len__(self):\n",
        "        return len(self.image_paths)\n",
        "\n",
        "    def __getitem__(self, idx):\n",
        "        image_path = self.image_paths[idx]\n",
        "        image = Image.open(image_path).convert(\"L\")  # Convert to RGB if necessary\n",
        "        if self.transform:\n",
        "            image = self.transform(image)\n",
        "        return image\n"
      ],
      "metadata": {
        "id": "Uw6_EvRfIiDR"
      },
      "execution_count": 22,
      "outputs": []
    },
    {
      "cell_type": "markdown",
      "source": [
        "#### data loaders"
      ],
      "metadata": {
        "id": "_4UZXaVKuOES"
      }
    },
    {
      "cell_type": "code",
      "source": [
        "# Define transformations (e.g., resizing, normalization)\n",
        "transform = transforms.Compose([\n",
        "    transforms.Resize((image_size, image_size)),  # Resize images to the desired size\n",
        "    transforms.Grayscale(num_output_channels=1),\n",
        "    transforms.ToTensor(),\n",
        "    transforms.Normalize(mean=[0.5], std=[0.5])  # Normalize to [-1, 1]\n",
        "])\n",
        "\n",
        "# Create dataset and data loaders\n",
        "dataset = PNGImageDataset(root_dir='drive/MyDrive/PACS/Synthesizing_the_mind/coronal_2D_healthy_IOP_scanner', transform=transform)\n",
        "train_loader = DataLoader(dataset, batch_size=16, shuffle=True)"
      ],
      "metadata": {
        "id": "f9u1Lh3luNxB"
      },
      "execution_count": 23,
      "outputs": []
    },
    {
      "cell_type": "markdown",
      "source": [
        "## Train Classifier"
      ],
      "metadata": {
        "id": "dPStqvJdIq2t"
      }
    },
    {
      "cell_type": "markdown",
      "source": [
        "#### Model and Optimizer Initialization"
      ],
      "metadata": {
        "id": "DA0FjBuVu60z"
      }
    },
    {
      "cell_type": "code",
      "source": [
        "diffusion_process = GuidedDiffusionProcess()\n",
        "model = Unet(im_channels=1)\n",
        "optimizer = torch.optim.Adam(model.parameters(), lr=1e-4)"
      ],
      "metadata": {
        "id": "Q7dV7PbKumuJ"
      },
      "execution_count": 24,
      "outputs": []
    },
    {
      "cell_type": "markdown",
      "source": [
        "#### Training loop"
      ],
      "metadata": {
        "id": "PrjI74j9u_o9"
      }
    },
    {
      "cell_type": "code",
      "source": [
        "from torch.amp import GradScaler, autocast  # Import GradScaler\n",
        "# Create a GradScaler for AMP\n",
        "scaler = GradScaler()\n",
        "\n",
        "# Move model to device\n",
        "device = torch.device(\"cuda\" if torch.cuda.is_available() else \"cpu\")\n",
        "model.to(device)\n",
        "\n",
        "# Enable parallel data loading\n",
        "train_loader = DataLoader(dataset, batch_size=32, shuffle=True, num_workers=4, pin_memory=True)\n",
        "\n",
        "epochs = 2000\n",
        "for epoch in range(epochs):\n",
        "    for batch_idx, images in enumerate(train_loader):\n",
        "        # Move data to device\n",
        "        images = images.to(device)\n",
        "\n",
        "        # Get timesteps and noise\n",
        "        t = torch.randint(0, diffusion_process.use_timesteps.shape[0], (images.shape[0],), device=device).type(torch.float32)\n",
        "        noise = torch.randn_like(images, device=device)\n",
        "        y = torch.randint(0, model.num_classes, (images.shape[0],), device=device) # Dummy labels\n",
        "\n",
        "        # Enable autocast for mixed precision (with device_type)\n",
        "        with autocast(device_type='cuda'):\n",
        "            losses = diffusion_process.training_losses(model, images, t, noise, y)\n",
        "            loss = losses['mse_loss'] + losses['vlb_loss']  # Assuming losses are tensors\n",
        "            loss = loss.mean()  # Reduce to a scalar using mean()\n",
        "\n",
        "        # Scale the loss and backpropagate\n",
        "        scaler.scale(loss).backward()\n",
        "\n",
        "        # Unscale the gradients and update optimizer\n",
        "        scaler.step(optimizer)\n",
        "        scaler.update()\n",
        "        optimizer.zero_grad()"
      ],
      "metadata": {
        "id": "24euqf7CNoFU"
      },
      "execution_count": 25,
      "outputs": []
    },
    {
      "cell_type": "markdown",
      "source": [
        "## Synthesize images"
      ],
      "metadata": {
        "id": "2DHosfewwnCO"
      }
    },
    {
      "cell_type": "code",
      "source": [
        "def synthesize_images(model, num_images):\n",
        "    device = next(model.parameters()).device  # Get the model's device\n",
        "    with torch.no_grad():\n",
        "        x = torch.randn(num_images, 1, image_size, image_size, device=device)  # Initialize noise on the device\n",
        "        y = torch.randint(0, model.num_classes, (num_images,), device=device) # Dummy labels\n",
        "\n",
        "        for t in reversed(range(1000)):\n",
        "            # Scale timestep and sample\n",
        "            t_batch = torch.tensor([t] * num_images, device=device)\n",
        "            samples = diffusion_process.p_sample(model, x, t_batch, y)\n",
        "            x = samples[\"sample\"]  # Update x with the sampled tensor\n",
        "\n",
        "        # Denormalize and convert to PIL images\n",
        "        x = (x + 1) / 2  # Denormalize to [0, 1]\n",
        "        images = [transforms.ToPILImage()(img.cpu()) for img in x]  # Move images to CPU for PIL\n",
        "    return images"
      ],
      "metadata": {
        "id": "5KtUkNSUwpBq"
      },
      "execution_count": 26,
      "outputs": []
    },
    {
      "cell_type": "code",
      "source": [
        "synthesized_images = synthesize_images(model, 10)  # Synthesize 10 images\n"
      ],
      "metadata": {
        "id": "U77JN9lMwrJB"
      },
      "execution_count": 27,
      "outputs": []
    },
    {
      "cell_type": "code",
      "source": [
        "import matplotlib.pyplot as plt"
      ],
      "metadata": {
        "id": "FXqpL-3i57HX"
      },
      "execution_count": 28,
      "outputs": []
    },
    {
      "cell_type": "code",
      "source": [
        "def visualize_images(images, num_rows=2, num_cols=5):\n",
        "        fig, axes = plt.subplots(num_rows, num_cols, figsize=(10, 4))  # Adjust figsize as needed\n",
        "        for i, image in enumerate(images):\n",
        "            row = i // num_cols\n",
        "            col = i % num_cols\n",
        "            axes[row, col].imshow(image, cmap=\"gray\")\n",
        "            axes[row, col].axis('off')  # Hide axis labels\n",
        "        plt.tight_layout()\n",
        "        plt.show()\n",
        "\n",
        "# Visualize the synthesized images\n",
        "visualize_images(synthesized_images)"
      ],
      "metadata": {
        "id": "xPfdEqCI584_",
        "colab": {
          "base_uri": "https://localhost:8080/",
          "height": 407
        },
        "outputId": "0ed09ee4-0bc5-400c-d546-969befa1dc6c"
      },
      "execution_count": 29,
      "outputs": [
        {
          "output_type": "display_data",
          "data": {
            "text/plain": [
              "<Figure size 1000x400 with 10 Axes>"
            ],
            "image/png": "[encoded data removed]"
          },
          "metadata": {}
        }
      ]
    }
  ]
}